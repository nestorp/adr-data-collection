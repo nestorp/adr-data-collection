{
 "cells": [
  {
   "cell_type": "code",
   "execution_count": null,
   "metadata": {
    "collapsed": true
   },
   "outputs": [],
   "source": [
    "import pandas as pd\n",
    "import datetime as dt\n",
    "import time\n",
    "import datetime\n",
    "from matplotlib import pyplot\n",
    "import string\n",
    "%matplotlib inline\n",
    "from nltk import word_tokenize, sent_tokenize, pos_tag, TweetTokenizer"
   ]
  },
  {
   "cell_type": "code",
   "execution_count": null,
   "metadata": {
    "collapsed": true
   },
   "outputs": [],
   "source": [
    "base_data = pd.read_csv('twitter_merge.csv', sep=\"|\", encoding='utf8')"
   ]
  },
  {
   "cell_type": "code",
   "execution_count": null,
   "metadata": {},
   "outputs": [],
   "source": [
    "base_data"
   ]
  },
  {
   "cell_type": "code",
   "execution_count": 21,
   "metadata": {
    "collapsed": true
   },
   "outputs": [],
   "source": [
    "base_data = base_data.drop_duplicates(\"id\")"
   ]
  },
  {
   "cell_type": "code",
   "execution_count": null,
   "metadata": {},
   "outputs": [],
   "source": [
    "base_data"
   ]
  },
  {
   "cell_type": "code",
   "execution_count": null,
   "metadata": {},
   "outputs": [],
   "source": [
    "print(base_data[base_data.duplicated()])"
   ]
  },
  {
   "cell_type": "code",
   "execution_count": null,
   "metadata": {},
   "outputs": [],
   "source": [
    "base_data[\"wordlen\"] = base_data.body.str.split().str.len()"
   ]
  },
  {
   "cell_type": "code",
   "execution_count": null,
   "metadata": {},
   "outputs": [],
   "source": [
    "print(\"Total Tweets\", len(base_data.id))\n",
    "print(\"Shortest tweet\", base_data.wordlen.min())\n",
    "print(\"Longest tweet\",base_data.wordlen.max())\n",
    "print(\"Mean length tweet\",base_data.wordlen.mean())\n",
    "print(\"Median length tweet\",base_data.wordlen.median())\n",
    "print(\"Mode length tweet\",base_data[base_data.wordlen>1].wordlen.mode())"
   ]
  },
  {
   "cell_type": "code",
   "execution_count": 40,
   "metadata": {},
   "outputs": [
    {
     "data": {
      "text/plain": [
       "['abilify',\n",
       " 'alprazolam',\n",
       " 'amitriptyline',\n",
       " 'aplenzin',\n",
       " 'aripiprazole',\n",
       " 'atenolol',\n",
       " 'ativan',\n",
       " 'budeprion',\n",
       " 'bupropion',\n",
       " 'buspar',\n",
       " 'buspirone',\n",
       " 'celexa',\n",
       " 'citalopram',\n",
       " 'clonazepam',\n",
       " 'clonidine',\n",
       " 'cymbalta',\n",
       " 'deplin',\n",
       " 'desvenlafaxine',\n",
       " 'desyrel',\n",
       " 'diazepam',\n",
       " 'doxepin',\n",
       " 'duloxetine',\n",
       " 'effexor',\n",
       " 'escitalopram',\n",
       " 'fetzima',\n",
       " 'fluoxetine',\n",
       " 'forfivo',\n",
       " 'gabapentin',\n",
       " 'hydroxyzine',\n",
       " 'lamotrigine',\n",
       " 'lexapro',\n",
       " 'librium',\n",
       " 'lorazepam',\n",
       " 'methylphenidate',\n",
       " 'mirtazapine',\n",
       " 'nortriptyline',\n",
       " 'olanzapine',\n",
       " 'oleptro',\n",
       " 'paroxetine',\n",
       " 'paxil',\n",
       " 'pristiq',\n",
       " 'propranolol',\n",
       " 'prozac',\n",
       " 'quetiapine',\n",
       " 'remeron',\n",
       " 'seroquel',\n",
       " 'sertraline',\n",
       " 'tenormin',\n",
       " 'tramadol',\n",
       " 'trazodone',\n",
       " 'trintellix',\n",
       " 'valium',\n",
       " 'venlafaxine',\n",
       " 'viibryd',\n",
       " 'vistaril',\n",
       " 'wellbutrin',\n",
       " 'xanax',\n",
       " 'zoloft',\n",
       " 'zyprexa']"
      ]
     },
     "execution_count": 40,
     "metadata": {},
     "output_type": "execute_result"
    }
   ],
   "source": [
    "drugs=[]\n",
    "with open(\"drug_selection.txt\") as instream:\n",
    "    for line in instream:\n",
    "        drugs.append(line.replace('Â\\xa0\\n','').replace('Â\\xa0',''))\n",
    "drugs"
   ]
  },
  {
   "cell_type": "code",
   "execution_count": 41,
   "metadata": {},
   "outputs": [
    {
     "name": "stdout",
     "output_type": "stream",
     "text": [
      "0  done,  1 mentions found\n",
      "1000  done,  859 mentions found\n",
      "2000  done,  1795 mentions found\n",
      "3000  done,  2616 mentions found\n",
      "4000  done,  3459 mentions found\n",
      "5000  done,  4312 mentions found\n",
      "6000  done,  5136 mentions found\n",
      "7000  done,  6068 mentions found\n",
      "8000  done,  6987 mentions found\n",
      "9000  done,  7910 mentions found\n",
      "10000  done,  8828 mentions found\n",
      "11000  done,  9757 mentions found\n",
      "12000  done,  10698 mentions found\n",
      "14000  done,  12590 mentions found\n",
      "15000  done,  13526 mentions found\n",
      "16000  done,  14325 mentions found\n",
      "17000  done,  15310 mentions found\n"
     ]
    }
   ],
   "source": [
    "keepindex = set()\n",
    "for index, row in base_data.iterrows():\n",
    "    words = [s.lower() for s in word_tokenize(str(row.body))]\n",
    "    for drug in drugs:\n",
    "        try:\n",
    "            if drug in words :\n",
    "                keepindex.add(index)\n",
    "                break\n",
    "        except Exception as e:\n",
    "            print(str(row.body), str(e))\n",
    "    if index%1000==0:\n",
    "        print(index, \" done, \", len(keepindex), \"mentions found\")"
   ]
  },
  {
   "cell_type": "code",
   "execution_count": null,
   "metadata": {},
   "outputs": [],
   "source": [
    "print([ x for x in  list(sorted(keepindex))])"
   ]
  },
  {
   "cell_type": "code",
   "execution_count": null,
   "metadata": {},
   "outputs": [],
   "source": [
    "base_data"
   ]
  },
  {
   "cell_type": "code",
   "execution_count": 49,
   "metadata": {
    "collapsed": true
   },
   "outputs": [],
   "source": [
    "tw_mentions = base_data.loc[list(sorted(keepindex))]"
   ]
  },
  {
   "cell_type": "code",
   "execution_count": 56,
   "metadata": {
    "collapsed": true
   },
   "outputs": [],
   "source": [
    "tw_mentions = tw_mentions.drop(tw_mentions[tw_mentions.username==\"RXpusherbot\"].index)"
   ]
  },
  {
   "cell_type": "code",
   "execution_count": 59,
   "metadata": {
    "collapsed": true
   },
   "outputs": [],
   "source": [
    "tw_mentions[\"body\"] = tw_mentions[\"body\"].str.lower()"
   ]
  },
  {
   "cell_type": "code",
   "execution_count": 66,
   "metadata": {
    "collapsed": true
   },
   "outputs": [],
   "source": [
    "def ret_len(mystr):\n",
    "    return len(word_tokenize(mystr))\n",
    "\n",
    "tw_mentions[\"wordlen\"] = tw_mentions.body.apply(ret_len)"
   ]
  },
  {
   "cell_type": "code",
   "execution_count": 74,
   "metadata": {
    "collapsed": true
   },
   "outputs": [],
   "source": [
    "pattern = \"\\@[A-Za-z0-9_-]*\"\n",
    "#pattern = \"@incantatricks\"\n",
    "tw_mentions[\"body\"] = tw_mentions.body.replace(pattern , '<@mention>', regex=True)"
   ]
  },
  {
   "cell_type": "code",
   "execution_count": null,
   "metadata": {},
   "outputs": [],
   "source": [
    "tw_mentions"
   ]
  },
  {
   "cell_type": "code",
   "execution_count": 83,
   "metadata": {
    "collapsed": true
   },
   "outputs": [],
   "source": [
    "tknz = TweetTokenizer()\n",
    "tw_mentions['words'] = tw_mentions['body'].apply(tknz.tokenize)"
   ]
  },
  {
   "cell_type": "code",
   "execution_count": 90,
   "metadata": {
    "collapsed": true
   },
   "outputs": [],
   "source": [
    "def tag_pos(mylist):\n",
    "    return [x[1] for x in pos_tag(mylist)]\n",
    "tw_mentions[\"pos\"] = tw_mentions.words.apply(tag_pos)"
   ]
  },
  {
   "cell_type": "code",
   "execution_count": 98,
   "metadata": {
    "collapsed": true
   },
   "outputs": [],
   "source": [
    "for index, row in tw_mentions.iterrows():\n",
    "    if len(row.pos)!=len(row.words):\n",
    "        print(index)"
   ]
  },
  {
   "cell_type": "code",
   "execution_count": 100,
   "metadata": {
    "collapsed": true
   },
   "outputs": [],
   "source": [
    "tw_mentions.to_csv(\"tweets_final.csv\", index=False, sep=\"|\", encoding=\"utf-8\")"
   ]
  },
  {
   "cell_type": "code",
   "execution_count": 2,
   "metadata": {
    "collapsed": true
   },
   "outputs": [],
   "source": [
    "tw_mentions2 = pd.read_csv(\"tweets_final.csv\", sep=\"|\", encoding=\"utf-8\")"
   ]
  },
  {
   "cell_type": "code",
   "execution_count": null,
   "metadata": {},
   "outputs": [],
   "source": [
    "tw_mentions2"
   ]
  },
  {
   "cell_type": "code",
   "execution_count": 14,
   "metadata": {
    "collapsed": true
   },
   "outputs": [],
   "source": [
    "def ret_len(mystr):\n",
    "    return len(tknz.tokenize(mystr))\n",
    "\n",
    "def tag_pos(mylist):\n",
    "    return [x[1] for x in pos_tag(mylist)]"
   ]
  },
  {
   "cell_type": "code",
   "execution_count": 15,
   "metadata": {
    "collapsed": true
   },
   "outputs": [],
   "source": [
    "tw_mentions2[\"wordlen\"] = tw_mentions2.body.apply(ret_len)"
   ]
  },
  {
   "cell_type": "code",
   "execution_count": 11,
   "metadata": {
    "collapsed": true
   },
   "outputs": [],
   "source": [
    "tknz = TweetTokenizer()\n",
    "tw_mentions2['words'] = tw_mentions2['body'].apply(tknz.tokenize)"
   ]
  },
  {
   "cell_type": "code",
   "execution_count": 12,
   "metadata": {
    "collapsed": true
   },
   "outputs": [],
   "source": [
    "tw_mentions2[\"pos\"] = tw_mentions2.words.apply(tag_pos)"
   ]
  },
  {
   "cell_type": "code",
   "execution_count": 17,
   "metadata": {
    "collapsed": true
   },
   "outputs": [],
   "source": [
    "for index, row in tw_mentions2.iterrows():\n",
    "    if len(row.pos)!=len(row.words):\n",
    "        print(index)\n",
    "        \n",
    "for index, row in tw_mentions2.iterrows():\n",
    "    if len(row.words)!=row.wordlen:\n",
    "        print(index)"
   ]
  },
  {
   "cell_type": "code",
   "execution_count": 20,
   "metadata": {
    "collapsed": true
   },
   "outputs": [],
   "source": [
    "with open('tweets_final_fixed_samples.csv', 'w', encoding='UTF-8') as writer:\n",
    "    writer.write(\"body|wordlen|words|pos\\n\")\n",
    "    for index, row in tw_mentions2.sample(5000).iterrows():\n",
    "        ws = []\n",
    "        for w in row.words:\n",
    "            ws.append(w.replace(\"\\\\\",\"\"))\n",
    "        writer.write(row.body.replace(\"\\\\\",\"\")+\"|\"+str(row.wordlen)+\"|\"+\"~\".join(ws)+\"|\"+\"~\".join(row.pos)+\"\\n\")"
   ]
  },
  {
   "cell_type": "code",
   "execution_count": null,
   "metadata": {
    "collapsed": true
   },
   "outputs": [],
   "source": []
  }
 ],
 "metadata": {
  "kernelspec": {
   "display_name": "Python 3",
   "language": "python",
   "name": "python3"
  },
  "language_info": {
   "codemirror_mode": {
    "name": "ipython",
    "version": 3
   },
   "file_extension": ".py",
   "mimetype": "text/x-python",
   "name": "python",
   "nbconvert_exporter": "python",
   "pygments_lexer": "ipython3",
   "version": "3.6.1"
  }
 },
 "nbformat": 4,
 "nbformat_minor": 2
}
